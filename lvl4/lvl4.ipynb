{
 "cells": [
  {
   "cell_type": "code",
   "execution_count": 1,
   "metadata": {},
   "outputs": [],
   "source": [
    "import numpy as np\n",
    "import tensorflow as tf\n",
    "from tensorflow import keras\n",
    "from PIL import Image\n",
    "import pandas as pd"
   ]
  },
  {
   "cell_type": "code",
   "execution_count": 2,
   "metadata": {},
   "outputs": [],
   "source": [
    "def merge_images(img1, img2):\n",
    "    cloud_pixel = np.array([255, 255, 255])\n",
    "    mask = np.all(img1 == cloud_pixel, axis=-1)\n",
    "    img1[mask] = img2[mask]\n",
    "    return img1\n"
   ]
  },
  {
   "cell_type": "code",
   "execution_count": 3,
   "metadata": {},
   "outputs": [],
   "source": [
    "# Load and preprocess data\n",
    "X_train = []\n",
    "# Load labels\n",
    "y_train = pd.read_csv(\"level_04/train_data_labels.csv\", header=None).values.squeeze()\n",
    "\n",
    "for i in range(500):\n",
    "    img_path1 = f\"level_04/train_data/field{i:03d}_sample0.png\"\n",
    "    img_path2 = f\"level_04/train_data/field{i:03d}_sample1.png\"\n",
    "    img1 = np.asarray(Image.open(img_path1).convert('RGB'))\n",
    "    img2 = np.asarray(Image.open(img_path2).convert('RGB'))\n",
    "    merged_img = merge_images(img1, img2)\n",
    "    X_train.append(merged_img)\n",
    "\n",
    "X_train = np.array(X_train) / 255.0  # Normalize images to [0, 1]"
   ]
  },
  {
   "cell_type": "code",
   "execution_count": 4,
   "metadata": {},
   "outputs": [
    {
     "name": "stdout",
     "output_type": "stream",
     "text": [
      "Metal device set to: Apple M1\n",
      "\n",
      "systemMemory: 8.00 GB\n",
      "maxCacheSize: 2.67 GB\n",
      "\n"
     ]
    },
    {
     "name": "stderr",
     "output_type": "stream",
     "text": [
      "2023-10-20 17:14:14.508417: I tensorflow/core/common_runtime/pluggable_device/pluggable_device_factory.cc:305] Could not identify NUMA node of platform GPU ID 0, defaulting to 0. Your kernel may not have been built with NUMA support.\n",
      "2023-10-20 17:14:14.508528: I tensorflow/core/common_runtime/pluggable_device/pluggable_device_factory.cc:271] Created TensorFlow device (/job:localhost/replica:0/task:0/device:GPU:0 with 0 MB memory) -> physical PluggableDevice (device: 0, name: METAL, pci bus id: <undefined>)\n"
     ]
    }
   ],
   "source": [
    "# Define the CNN model for regression\n",
    "model = keras.Sequential([\n",
    "    keras.layers.Conv2D(32, (3, 3), activation='relu', input_shape=(200, 200, 3)),\n",
    "    keras.layers.MaxPooling2D((2, 2)),\n",
    "    keras.layers.Conv2D(64, (3, 3), activation='relu'),\n",
    "    keras.layers.MaxPooling2D((2, 2)),\n",
    "    keras.layers.Conv2D(128, (3, 3), activation='relu'),\n",
    "    keras.layers.Flatten(),\n",
    "    keras.layers.Dense(128, activation='relu'),\n",
    "    keras.layers.Dense(2)  # 2 outputs for x and y coordinates\n",
    "])\n",
    "\n",
    "# Compile model\n",
    "model.compile(optimizer='adam', loss='mse')"
   ]
  },
  {
   "cell_type": "code",
   "execution_count": 5,
   "metadata": {},
   "outputs": [
    {
     "name": "stderr",
     "output_type": "stream",
     "text": [
      "2023-10-20 17:14:14.787148: W tensorflow/core/platform/profile_utils/cpu_utils.cc:128] Failed to get CPU frequency: 0 Hz\n",
      "2023-10-20 17:14:14.928403: I tensorflow/core/grappler/optimizers/custom_graph_optimizer_registry.cc:112] Plugin optimizer for device_type GPU is enabled.\n"
     ]
    },
    {
     "name": "stdout",
     "output_type": "stream",
     "text": [
      "Epoch 1/100\n",
      "50/50 [==============================] - 5s 93ms/step - loss: 3337.2385 - val_loss: 2265.7302\n",
      "Epoch 2/100\n",
      " 1/50 [..............................] - ETA: 4s - loss: 2084.1780"
     ]
    },
    {
     "name": "stderr",
     "output_type": "stream",
     "text": [
      "2023-10-20 17:14:19.714778: I tensorflow/core/grappler/optimizers/custom_graph_optimizer_registry.cc:112] Plugin optimizer for device_type GPU is enabled.\n"
     ]
    },
    {
     "name": "stdout",
     "output_type": "stream",
     "text": [
      "50/50 [==============================] - 4s 81ms/step - loss: 2466.4873 - val_loss: 2315.8093\n",
      "Epoch 3/100\n",
      "50/50 [==============================] - 4s 81ms/step - loss: 1782.3167 - val_loss: 855.6254\n",
      "Epoch 4/100\n",
      "50/50 [==============================] - 4s 82ms/step - loss: 360.3517 - val_loss: 90.1714\n",
      "Epoch 5/100\n",
      "50/50 [==============================] - 4s 84ms/step - loss: 118.2976 - val_loss: 38.0881\n",
      "Epoch 6/100\n",
      "50/50 [==============================] - 4s 82ms/step - loss: 75.7252 - val_loss: 43.4508\n",
      "Epoch 7/100\n",
      "50/50 [==============================] - 4s 82ms/step - loss: 47.6353 - val_loss: 23.8240\n",
      "Epoch 8/100\n",
      "50/50 [==============================] - 4s 83ms/step - loss: 32.8196 - val_loss: 10.1775\n",
      "Epoch 9/100\n",
      "50/50 [==============================] - 4s 84ms/step - loss: 42.4224 - val_loss: 58.4562\n",
      "Epoch 10/100\n",
      "50/50 [==============================] - 4s 81ms/step - loss: 29.7817 - val_loss: 39.4335\n",
      "Epoch 11/100\n",
      "50/50 [==============================] - 4s 84ms/step - loss: 19.3718 - val_loss: 26.3546\n",
      "Epoch 12/100\n",
      "50/50 [==============================] - 4s 82ms/step - loss: 14.1488 - val_loss: 21.6853\n",
      "Epoch 13/100\n",
      "50/50 [==============================] - 4s 82ms/step - loss: 11.1804 - val_loss: 11.5555\n",
      "Epoch 14/100\n",
      "50/50 [==============================] - 4s 85ms/step - loss: 10.0374 - val_loss: 10.0018\n",
      "Epoch 15/100\n",
      "50/50 [==============================] - 4s 83ms/step - loss: 14.2202 - val_loss: 22.9232\n",
      "Epoch 16/100\n",
      "50/50 [==============================] - 4s 83ms/step - loss: 11.1916 - val_loss: 9.9052\n",
      "Epoch 17/100\n",
      "50/50 [==============================] - 4s 82ms/step - loss: 7.6125 - val_loss: 9.0371\n",
      "Epoch 18/100\n",
      "50/50 [==============================] - 4s 83ms/step - loss: 7.9328 - val_loss: 17.0907\n",
      "Epoch 19/100\n",
      "50/50 [==============================] - 4s 82ms/step - loss: 5.9761 - val_loss: 17.9974\n",
      "Epoch 20/100\n",
      "50/50 [==============================] - 4s 82ms/step - loss: 6.8941 - val_loss: 16.3287\n",
      "Epoch 21/100\n",
      "50/50 [==============================] - 4s 82ms/step - loss: 4.5254 - val_loss: 13.0420\n",
      "Epoch 22/100\n",
      "50/50 [==============================] - 4s 82ms/step - loss: 3.5087 - val_loss: 13.6894\n",
      "Epoch 23/100\n",
      "50/50 [==============================] - 4s 80ms/step - loss: 3.5572 - val_loss: 5.2070\n",
      "Epoch 24/100\n",
      "50/50 [==============================] - 4s 81ms/step - loss: 3.5592 - val_loss: 11.5747\n",
      "Epoch 25/100\n",
      "50/50 [==============================] - 4s 82ms/step - loss: 6.5054 - val_loss: 20.7407\n",
      "Epoch 26/100\n",
      "50/50 [==============================] - 4s 83ms/step - loss: 10.9026 - val_loss: 11.5815\n",
      "Epoch 27/100\n",
      "50/50 [==============================] - 4s 82ms/step - loss: 9.6219 - val_loss: 32.4728\n",
      "Epoch 28/100\n",
      "50/50 [==============================] - 4s 82ms/step - loss: 13.5894 - val_loss: 12.6829\n",
      "Epoch 29/100\n",
      "50/50 [==============================] - 4s 82ms/step - loss: 8.7913 - val_loss: 7.7751\n",
      "Epoch 30/100\n",
      "50/50 [==============================] - 4s 82ms/step - loss: 6.4328 - val_loss: 12.4517\n",
      "Epoch 31/100\n",
      "50/50 [==============================] - 4s 82ms/step - loss: 7.2815 - val_loss: 9.7865\n",
      "Epoch 32/100\n",
      "50/50 [==============================] - 4s 82ms/step - loss: 4.4046 - val_loss: 5.1022\n",
      "Epoch 33/100\n",
      "50/50 [==============================] - 4s 82ms/step - loss: 4.8433 - val_loss: 9.2413\n",
      "Epoch 34/100\n",
      "50/50 [==============================] - 4s 82ms/step - loss: 5.9284 - val_loss: 11.3177\n",
      "Epoch 35/100\n",
      "50/50 [==============================] - 4s 81ms/step - loss: 4.7673 - val_loss: 7.5860\n",
      "Epoch 36/100\n",
      "50/50 [==============================] - 4s 81ms/step - loss: 6.9733 - val_loss: 23.6719\n",
      "Epoch 37/100\n",
      "50/50 [==============================] - 4s 81ms/step - loss: 6.8524 - val_loss: 31.6862\n",
      "Epoch 38/100\n",
      "50/50 [==============================] - 4s 82ms/step - loss: 11.3633 - val_loss: 36.6956\n",
      "Epoch 39/100\n",
      "50/50 [==============================] - 4s 82ms/step - loss: 10.6956 - val_loss: 15.2525\n",
      "Epoch 40/100\n",
      "50/50 [==============================] - 4s 81ms/step - loss: 9.1698 - val_loss: 11.9647\n",
      "Epoch 41/100\n",
      "50/50 [==============================] - 4s 81ms/step - loss: 20.2053 - val_loss: 20.7102\n",
      "Epoch 42/100\n",
      "50/50 [==============================] - 4s 83ms/step - loss: 26.4911 - val_loss: 50.7881\n",
      "Epoch 43/100\n",
      "50/50 [==============================] - 4s 82ms/step - loss: 23.7218 - val_loss: 26.3983\n",
      "Epoch 44/100\n",
      "50/50 [==============================] - 4s 82ms/step - loss: 20.4613 - val_loss: 16.0508\n",
      "Epoch 45/100\n",
      "50/50 [==============================] - 4s 82ms/step - loss: 15.5226 - val_loss: 14.9144\n",
      "Epoch 46/100\n",
      "50/50 [==============================] - 4s 82ms/step - loss: 12.3534 - val_loss: 8.9676\n",
      "Epoch 47/100\n",
      "50/50 [==============================] - 4s 82ms/step - loss: 16.1908 - val_loss: 30.9888\n",
      "Epoch 48/100\n",
      "50/50 [==============================] - 4s 82ms/step - loss: 9.4405 - val_loss: 9.7063\n",
      "Epoch 49/100\n",
      "50/50 [==============================] - 4s 82ms/step - loss: 5.8107 - val_loss: 10.0302\n",
      "Epoch 50/100\n",
      "50/50 [==============================] - 4s 82ms/step - loss: 7.5554 - val_loss: 3.4804\n",
      "Epoch 51/100\n",
      "50/50 [==============================] - 4s 82ms/step - loss: 4.7980 - val_loss: 11.7317\n",
      "Epoch 52/100\n",
      "50/50 [==============================] - 4s 82ms/step - loss: 4.2872 - val_loss: 12.6987\n",
      "Epoch 53/100\n",
      "50/50 [==============================] - 4s 82ms/step - loss: 6.8803 - val_loss: 9.7759\n",
      "Epoch 54/100\n",
      "50/50 [==============================] - 4s 82ms/step - loss: 3.9547 - val_loss: 4.1488\n",
      "Epoch 55/100\n",
      "50/50 [==============================] - 4s 82ms/step - loss: 2.6629 - val_loss: 11.3516\n",
      "Epoch 56/100\n",
      "50/50 [==============================] - 4s 83ms/step - loss: 5.6756 - val_loss: 19.0114\n",
      "Epoch 57/100\n",
      "50/50 [==============================] - 4s 82ms/step - loss: 6.3974 - val_loss: 19.9003\n",
      "Epoch 58/100\n",
      "50/50 [==============================] - 4s 82ms/step - loss: 6.6198 - val_loss: 9.9995\n",
      "Epoch 59/100\n",
      "50/50 [==============================] - 4s 82ms/step - loss: 21.2176 - val_loss: 26.8508\n",
      "Epoch 60/100\n",
      "50/50 [==============================] - 4s 82ms/step - loss: 49.9701 - val_loss: 27.6350\n",
      "Epoch 61/100\n",
      "50/50 [==============================] - 4s 82ms/step - loss: 19.8634 - val_loss: 9.4169\n",
      "Epoch 62/100\n",
      "50/50 [==============================] - 4s 82ms/step - loss: 9.5404 - val_loss: 8.7030\n",
      "Epoch 63/100\n",
      "50/50 [==============================] - 4s 82ms/step - loss: 6.8041 - val_loss: 15.9992\n",
      "Epoch 64/100\n",
      "50/50 [==============================] - 4s 82ms/step - loss: 5.0088 - val_loss: 13.1410\n",
      "Epoch 65/100\n",
      "50/50 [==============================] - 5s 91ms/step - loss: 5.5295 - val_loss: 8.8889\n",
      "Epoch 66/100\n",
      "50/50 [==============================] - 4s 81ms/step - loss: 3.2590 - val_loss: 3.8614\n",
      "Epoch 67/100\n",
      "50/50 [==============================] - 4s 81ms/step - loss: 2.8632 - val_loss: 11.2759\n",
      "Epoch 68/100\n",
      "50/50 [==============================] - 4s 81ms/step - loss: 4.1662 - val_loss: 10.9621\n",
      "Epoch 69/100\n",
      "50/50 [==============================] - 4s 86ms/step - loss: 4.1657 - val_loss: 6.8132\n",
      "Epoch 70/100\n",
      "50/50 [==============================] - 4s 87ms/step - loss: 2.6989 - val_loss: 11.0397\n",
      "Epoch 71/100\n",
      "50/50 [==============================] - 4s 81ms/step - loss: 2.7000 - val_loss: 2.9420\n",
      "Epoch 72/100\n",
      "50/50 [==============================] - 4s 83ms/step - loss: 3.2081 - val_loss: 5.0486\n",
      "Epoch 73/100\n",
      "50/50 [==============================] - 4s 83ms/step - loss: 1.7568 - val_loss: 7.5231\n",
      "Epoch 74/100\n",
      "50/50 [==============================] - 4s 83ms/step - loss: 1.4347 - val_loss: 7.2439\n",
      "Epoch 75/100\n",
      "50/50 [==============================] - 4s 85ms/step - loss: 2.2434 - val_loss: 6.2893\n",
      "Epoch 76/100\n",
      "50/50 [==============================] - 4s 84ms/step - loss: 1.6276 - val_loss: 6.4089\n",
      "Epoch 77/100\n",
      "50/50 [==============================] - 4s 82ms/step - loss: 2.3546 - val_loss: 4.7181\n",
      "Epoch 78/100\n",
      "50/50 [==============================] - 4s 82ms/step - loss: 3.0878 - val_loss: 8.0773\n",
      "Epoch 79/100\n",
      "50/50 [==============================] - 4s 82ms/step - loss: 4.6575 - val_loss: 12.2434\n",
      "Epoch 80/100\n",
      "50/50 [==============================] - 4s 82ms/step - loss: 8.6545 - val_loss: 9.6804\n",
      "Epoch 81/100\n",
      "50/50 [==============================] - 4s 82ms/step - loss: 8.8286 - val_loss: 9.3838\n",
      "Epoch 82/100\n",
      "50/50 [==============================] - 4s 82ms/step - loss: 7.6446 - val_loss: 8.0626\n",
      "Epoch 83/100\n",
      "50/50 [==============================] - 4s 82ms/step - loss: 5.9412 - val_loss: 9.8956\n",
      "Epoch 84/100\n",
      "50/50 [==============================] - 4s 84ms/step - loss: 11.3743 - val_loss: 16.2733\n",
      "Epoch 85/100\n",
      "50/50 [==============================] - 4s 81ms/step - loss: 15.0905 - val_loss: 10.6865\n",
      "Epoch 86/100\n",
      "50/50 [==============================] - 4s 85ms/step - loss: 10.1370 - val_loss: 27.7731\n",
      "Epoch 87/100\n",
      "50/50 [==============================] - 4s 82ms/step - loss: 8.3440 - val_loss: 8.5024\n",
      "Epoch 88/100\n",
      "50/50 [==============================] - 4s 82ms/step - loss: 13.1779 - val_loss: 14.8931\n",
      "Epoch 89/100\n",
      "50/50 [==============================] - 4s 82ms/step - loss: 12.0065 - val_loss: 12.5701\n",
      "Epoch 90/100\n",
      "50/50 [==============================] - 4s 82ms/step - loss: 10.7116 - val_loss: 5.8290\n",
      "Epoch 91/100\n",
      "50/50 [==============================] - 4s 82ms/step - loss: 14.6110 - val_loss: 18.9442\n",
      "Epoch 92/100\n",
      "50/50 [==============================] - 4s 82ms/step - loss: 12.4668 - val_loss: 10.6919\n",
      "Epoch 93/100\n",
      "50/50 [==============================] - 4s 82ms/step - loss: 13.4205 - val_loss: 16.7541\n",
      "Epoch 94/100\n",
      "50/50 [==============================] - 4s 82ms/step - loss: 6.6189 - val_loss: 16.6240\n",
      "Epoch 95/100\n",
      "50/50 [==============================] - 4s 82ms/step - loss: 5.5365 - val_loss: 10.6486\n",
      "Epoch 96/100\n",
      "50/50 [==============================] - 4s 82ms/step - loss: 2.6000 - val_loss: 5.9552\n",
      "Epoch 97/100\n",
      "50/50 [==============================] - 4s 82ms/step - loss: 2.5490 - val_loss: 7.5245\n",
      "Epoch 98/100\n",
      "50/50 [==============================] - 4s 82ms/step - loss: 1.8520 - val_loss: 4.2501\n",
      "Epoch 99/100\n",
      "50/50 [==============================] - 4s 82ms/step - loss: 2.1614 - val_loss: 8.4174\n",
      "Epoch 100/100\n",
      "50/50 [==============================] - 4s 82ms/step - loss: 3.5847 - val_loss: 5.2095\n"
     ]
    },
    {
     "data": {
      "text/plain": [
       "<keras.callbacks.History at 0x17c2c83d0>"
      ]
     },
     "execution_count": 5,
     "metadata": {},
     "output_type": "execute_result"
    }
   ],
   "source": [
    "# Train model\n",
    "model.fit(X_train, y_train, epochs=100, batch_size=10, validation_split=0.01)\n"
   ]
  },
  {
   "cell_type": "code",
   "execution_count": 6,
   "metadata": {},
   "outputs": [],
   "source": [
    "merged_test_images = []\n",
    "for i in range(1000):\n",
    "    img_path1 = f\"level_04/test_data/field{i:03d}_sample0.png\"\n",
    "    img_path2 = f\"level_04/test_data/field{i:03d}_sample1.png\"\n",
    "    img1 = np.asarray(Image.open(img_path1).convert('RGB'))\n",
    "    img2 = np.asarray(Image.open(img_path2).convert('RGB'))\n",
    "    merged_img = merge_images(img1, img2)\n",
    "    merged_test_images.append(merged_img)\n",
    "\n",
    "test_data = np.array(merged_test_images) / 255.0  # Normalize to [0, 1]\n"
   ]
  },
  {
   "cell_type": "code",
   "execution_count": 7,
   "metadata": {},
   "outputs": [
    {
     "name": "stderr",
     "output_type": "stream",
     "text": [
      "2023-10-20 17:21:12.235678: I tensorflow/core/grappler/optimizers/custom_graph_optimizer_registry.cc:112] Plugin optimizer for device_type GPU is enabled.\n"
     ]
    }
   ],
   "source": [
    "predictions = model.predict(test_data)\n"
   ]
  },
  {
   "cell_type": "code",
   "execution_count": 8,
   "metadata": {},
   "outputs": [],
   "source": [
    "np.savetxt(\"predictions.csv\", predictions, delimiter=\",\", fmt='%d')\n"
   ]
  }
 ],
 "metadata": {
  "kernelspec": {
   "display_name": "tensorflow",
   "language": "python",
   "name": "python3"
  },
  "language_info": {
   "codemirror_mode": {
    "name": "ipython",
    "version": 3
   },
   "file_extension": ".py",
   "mimetype": "text/x-python",
   "name": "python",
   "nbconvert_exporter": "python",
   "pygments_lexer": "ipython3",
   "version": "3.9.7"
  },
  "orig_nbformat": 4
 },
 "nbformat": 4,
 "nbformat_minor": 2
}
