{
 "cells": [
  {
   "cell_type": "code",
   "execution_count": 1,
   "metadata": {},
   "outputs": [],
   "source": [
    "import numpy as np\n",
    "import pandas as pd\n",
    "from PIL import Image\n",
    "import tensorflow as tf\n",
    "from tensorflow.keras.models import Sequential\n",
    "from tensorflow.keras.layers import Dense, Flatten, Conv2D, MaxPooling2D, Dropout\n"
   ]
  },
  {
   "cell_type": "code",
   "execution_count": 2,
   "metadata": {},
   "outputs": [],
   "source": [
    "def merge_images(img1, img2):\n",
    "    cloud_pixel = np.array([255, 255, 255])\n",
    "    mask = np.all(img1 == cloud_pixel, axis=-1)\n",
    "    img1[mask] = img2[mask]\n",
    "    return img1\n"
   ]
  },
  {
   "cell_type": "code",
   "execution_count": 3,
   "metadata": {},
   "outputs": [],
   "source": [
    "# Load labels\n",
    "labels = pd.read_csv(\"level_03/train_data_labels.csv\", header=None).values.squeeze()\n",
    "\n",
    "# Load and merge training images\n",
    "merged_train_images = []\n",
    "for i in range(500):\n",
    "    img_path1 = f\"level_03/train_data/field{i:03d}_sample0.png\"\n",
    "    img_path2 = f\"level_03/train_data/field{i:03d}_sample1.png\"\n",
    "    img1 = np.asarray(Image.open(img_path1).convert('RGB'))\n",
    "    img2 = np.asarray(Image.open(img_path2).convert('RGB'))\n",
    "    merged_img = merge_images(img1, img2)\n",
    "    merged_train_images.append(merged_img)\n",
    "    \n",
    "train_data = np.array(merged_train_images) / 255.0  # Normalize to [0, 1]\n"
   ]
  },
  {
   "cell_type": "code",
   "execution_count": 4,
   "metadata": {},
   "outputs": [
    {
     "name": "stderr",
     "output_type": "stream",
     "text": [
      "2023-10-20 16:37:37.683612: I tensorflow/core/common_runtime/pluggable_device/pluggable_device_factory.cc:305] Could not identify NUMA node of platform GPU ID 0, defaulting to 0. Your kernel may not have been built with NUMA support.\n",
      "2023-10-20 16:37:37.683882: I tensorflow/core/common_runtime/pluggable_device/pluggable_device_factory.cc:271] Created TensorFlow device (/job:localhost/replica:0/task:0/device:GPU:0 with 0 MB memory) -> physical PluggableDevice (device: 0, name: METAL, pci bus id: <undefined>)\n"
     ]
    },
    {
     "name": "stdout",
     "output_type": "stream",
     "text": [
      "Metal device set to: Apple M1\n",
      "\n",
      "systemMemory: 8.00 GB\n",
      "maxCacheSize: 2.67 GB\n",
      "\n"
     ]
    }
   ],
   "source": [
    "model = Sequential([\n",
    "    Conv2D(32, (3, 3), activation='relu', input_shape=(200, 200, 3)),\n",
    "    MaxPooling2D(2, 2),\n",
    "    Conv2D(64, (3, 3), activation='relu'),\n",
    "    MaxPooling2D(2, 2),\n",
    "    Conv2D(128, (3, 3), activation='relu'),\n",
    "    MaxPooling2D(2, 2),\n",
    "    Flatten(),\n",
    "    Dense(512, activation='relu'),\n",
    "    Dropout(0.5),\n",
    "    Dense(1)  # Regression output\n",
    "])\n",
    "\n",
    "model.compile(optimizer='adam', loss='mse')\n"
   ]
  },
  {
   "cell_type": "code",
   "execution_count": 5,
   "metadata": {},
   "outputs": [
    {
     "name": "stderr",
     "output_type": "stream",
     "text": [
      "2023-10-20 16:37:41.804725: W tensorflow/core/platform/profile_utils/cpu_utils.cc:128] Failed to get CPU frequency: 0 Hz\n",
      "2023-10-20 16:37:41.974984: I tensorflow/core/grappler/optimizers/custom_graph_optimizer_registry.cc:112] Plugin optimizer for device_type GPU is enabled.\n"
     ]
    },
    {
     "name": "stdout",
     "output_type": "stream",
     "text": [
      "Epoch 1/20\n",
      "23/23 [==============================] - 4s 138ms/step - loss: 39.4713 - val_loss: 3.2570\n"
     ]
    },
    {
     "name": "stderr",
     "output_type": "stream",
     "text": [
      "2023-10-20 16:37:45.819554: I tensorflow/core/grappler/optimizers/custom_graph_optimizer_registry.cc:112] Plugin optimizer for device_type GPU is enabled.\n"
     ]
    },
    {
     "name": "stdout",
     "output_type": "stream",
     "text": [
      "Epoch 2/20\n",
      "23/23 [==============================] - 3s 128ms/step - loss: 2.5582 - val_loss: 1.1905\n",
      "Epoch 3/20\n",
      "23/23 [==============================] - 3s 126ms/step - loss: 0.6555 - val_loss: 0.4004\n",
      "Epoch 4/20\n",
      "23/23 [==============================] - 3s 134ms/step - loss: 0.2124 - val_loss: 0.2649\n",
      "Epoch 5/20\n",
      "23/23 [==============================] - 3s 127ms/step - loss: 0.1941 - val_loss: 0.2034\n",
      "Epoch 6/20\n",
      "23/23 [==============================] - 3s 127ms/step - loss: 0.1177 - val_loss: 0.2765\n",
      "Epoch 7/20\n",
      "23/23 [==============================] - 3s 126ms/step - loss: 0.0958 - val_loss: 0.1369\n",
      "Epoch 8/20\n",
      "23/23 [==============================] - 3s 127ms/step - loss: 0.0868 - val_loss: 0.1287\n",
      "Epoch 9/20\n",
      "23/23 [==============================] - 3s 126ms/step - loss: 0.0688 - val_loss: 0.1010\n",
      "Epoch 10/20\n",
      "23/23 [==============================] - 3s 126ms/step - loss: 0.0515 - val_loss: 0.1303\n",
      "Epoch 11/20\n",
      "23/23 [==============================] - 3s 128ms/step - loss: 0.0569 - val_loss: 0.1428\n",
      "Epoch 12/20\n",
      "23/23 [==============================] - 3s 128ms/step - loss: 0.0407 - val_loss: 0.1568\n",
      "Epoch 13/20\n",
      "23/23 [==============================] - 3s 126ms/step - loss: 0.0438 - val_loss: 0.0869\n",
      "Epoch 14/20\n",
      "23/23 [==============================] - 3s 127ms/step - loss: 0.0581 - val_loss: 0.0970\n",
      "Epoch 15/20\n",
      "23/23 [==============================] - 3s 126ms/step - loss: 0.0450 - val_loss: 0.0934\n",
      "Epoch 16/20\n",
      "23/23 [==============================] - 3s 128ms/step - loss: 0.0378 - val_loss: 0.1014\n",
      "Epoch 17/20\n",
      "23/23 [==============================] - 3s 126ms/step - loss: 0.0324 - val_loss: 0.0858\n",
      "Epoch 18/20\n",
      "23/23 [==============================] - 3s 129ms/step - loss: 0.0244 - val_loss: 0.1290\n",
      "Epoch 19/20\n",
      "23/23 [==============================] - 3s 129ms/step - loss: 0.0223 - val_loss: 0.0804\n",
      "Epoch 20/20\n",
      "23/23 [==============================] - 3s 127ms/step - loss: 0.0205 - val_loss: 0.0642\n"
     ]
    },
    {
     "data": {
      "text/plain": [
       "<keras.callbacks.History at 0x298821f10>"
      ]
     },
     "execution_count": 5,
     "metadata": {},
     "output_type": "execute_result"
    }
   ],
   "source": [
    "model.fit(train_data, labels, epochs=20, batch_size=20, validation_split=0.1)\n"
   ]
  },
  {
   "cell_type": "code",
   "execution_count": 8,
   "metadata": {},
   "outputs": [],
   "source": [
    "merged_test_images = []\n",
    "for i in range(1000):\n",
    "    img_path1 = f\"level_03/test_data/field{i:03d}_sample0.png\"\n",
    "    img_path2 = f\"level_03/test_data/field{i:03d}_sample1.png\"\n",
    "    img1 = np.asarray(Image.open(img_path1).convert('RGB'))\n",
    "    img2 = np.asarray(Image.open(img_path2).convert('RGB'))\n",
    "    merged_img = merge_images(img1, img2)\n",
    "    merged_test_images.append(merged_img)\n",
    "\n",
    "test_data = np.array(merged_test_images) / 255.0  # Normalize to [0, 1]\n"
   ]
  },
  {
   "cell_type": "code",
   "execution_count": 9,
   "metadata": {},
   "outputs": [
    {
     "name": "stderr",
     "output_type": "stream",
     "text": [
      "2023-10-20 16:40:04.082488: I tensorflow/core/grappler/optimizers/custom_graph_optimizer_registry.cc:112] Plugin optimizer for device_type GPU is enabled.\n"
     ]
    }
   ],
   "source": [
    "predictions = model.predict(test_data).squeeze()\n",
    "rounded_predictions = np.round(predictions).clip(0, 5)\n"
   ]
  },
  {
   "cell_type": "code",
   "execution_count": 10,
   "metadata": {},
   "outputs": [],
   "source": [
    "rounded_predictions = np.round(predictions).clip(0, 5)\n"
   ]
  },
  {
   "cell_type": "code",
   "execution_count": 11,
   "metadata": {},
   "outputs": [],
   "source": [
    "np.savetxt(\"predictions.csv\", rounded_predictions, delimiter=\",\", fmt='%d')\n"
   ]
  }
 ],
 "metadata": {
  "kernelspec": {
   "display_name": "tensorflow",
   "language": "python",
   "name": "python3"
  },
  "language_info": {
   "codemirror_mode": {
    "name": "ipython",
    "version": 3
   },
   "file_extension": ".py",
   "mimetype": "text/x-python",
   "name": "python",
   "nbconvert_exporter": "python",
   "pygments_lexer": "ipython3",
   "version": "3.9.7"
  },
  "orig_nbformat": 4
 },
 "nbformat": 4,
 "nbformat_minor": 2
}
