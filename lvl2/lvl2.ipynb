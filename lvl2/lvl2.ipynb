{
 "cells": [
  {
   "cell_type": "code",
   "execution_count": 3,
   "metadata": {},
   "outputs": [],
   "source": [
    "import numpy as np\n",
    "import pandas as pd\n",
    "import os\n",
    "from PIL import Image\n",
    "import tensorflow as tf\n",
    "from tensorflow.keras.models import Sequential\n",
    "from tensorflow.keras.layers import Dense, Flatten, Conv2D, MaxPooling2D, Dropout\n"
   ]
  },
  {
   "cell_type": "code",
   "execution_count": 4,
   "metadata": {},
   "outputs": [],
   "source": [
    "# Load labels\n",
    "labels = pd.read_csv(\"level_02/train_data_labels.csv\", header=None).values.squeeze()\n",
    "\n",
    "# Load training images\n",
    "train_image_paths = [f\"level_02/train_data/field{i:03d}.png\" for i in range(500)]\n",
    "train_images = [Image.open(path).convert('RGB') for path in train_image_paths]\n",
    "train_data = np.array([np.asarray(image) for image in train_images]) / 255.0  # Normalize to [0, 1]\n",
    "\n",
    "\n"
   ]
  },
  {
   "cell_type": "code",
   "execution_count": 5,
   "metadata": {},
   "outputs": [
    {
     "name": "stderr",
     "output_type": "stream",
     "text": [
      "2023-10-20 16:27:02.188710: I tensorflow/core/common_runtime/pluggable_device/pluggable_device_factory.cc:305] Could not identify NUMA node of platform GPU ID 0, defaulting to 0. Your kernel may not have been built with NUMA support.\n",
      "2023-10-20 16:27:02.189016: I tensorflow/core/common_runtime/pluggable_device/pluggable_device_factory.cc:271] Created TensorFlow device (/job:localhost/replica:0/task:0/device:GPU:0 with 0 MB memory) -> physical PluggableDevice (device: 0, name: METAL, pci bus id: <undefined>)\n"
     ]
    },
    {
     "name": "stdout",
     "output_type": "stream",
     "text": [
      "Metal device set to: Apple M1\n",
      "\n",
      "systemMemory: 8.00 GB\n",
      "maxCacheSize: 2.67 GB\n",
      "\n"
     ]
    }
   ],
   "source": [
    "model = Sequential([\n",
    "    Conv2D(32, (3, 3), activation='relu', input_shape=(200, 200, 3)),\n",
    "    MaxPooling2D(2, 2),\n",
    "    Conv2D(64, (3, 3), activation='relu'),\n",
    "    MaxPooling2D(2, 2),\n",
    "    Conv2D(128, (3, 3), activation='relu'),\n",
    "    MaxPooling2D(2, 2),\n",
    "    Flatten(),\n",
    "    Dense(512, activation='relu'),\n",
    "    Dropout(0.5),\n",
    "    Dense(1)  # Regression output\n",
    "])\n",
    "\n",
    "model.compile(optimizer='adam', loss='mse')\n"
   ]
  },
  {
   "cell_type": "code",
   "execution_count": 6,
   "metadata": {},
   "outputs": [
    {
     "name": "stderr",
     "output_type": "stream",
     "text": [
      "2023-10-20 16:27:04.553645: W tensorflow/core/platform/profile_utils/cpu_utils.cc:128] Failed to get CPU frequency: 0 Hz\n"
     ]
    },
    {
     "name": "stdout",
     "output_type": "stream",
     "text": [
      "Epoch 1/20\n"
     ]
    },
    {
     "name": "stderr",
     "output_type": "stream",
     "text": [
      "2023-10-20 16:27:04.769434: I tensorflow/core/grappler/optimizers/custom_graph_optimizer_registry.cc:112] Plugin optimizer for device_type GPU is enabled.\n"
     ]
    },
    {
     "name": "stdout",
     "output_type": "stream",
     "text": [
      "23/23 [==============================] - 6s 151ms/step - loss: 49.6896 - val_loss: 2.7390\n"
     ]
    },
    {
     "name": "stderr",
     "output_type": "stream",
     "text": [
      "2023-10-20 16:27:09.973035: I tensorflow/core/grappler/optimizers/custom_graph_optimizer_registry.cc:112] Plugin optimizer for device_type GPU is enabled.\n"
     ]
    },
    {
     "name": "stdout",
     "output_type": "stream",
     "text": [
      "Epoch 2/20\n",
      "23/23 [==============================] - 3s 127ms/step - loss: 1.9074 - val_loss: 0.7684\n",
      "Epoch 3/20\n",
      "23/23 [==============================] - 3s 126ms/step - loss: 0.3834 - val_loss: 0.1877\n",
      "Epoch 4/20\n",
      "23/23 [==============================] - 3s 132ms/step - loss: 0.2457 - val_loss: 0.1159\n",
      "Epoch 5/20\n",
      "23/23 [==============================] - 3s 128ms/step - loss: 0.1196 - val_loss: 0.0804\n",
      "Epoch 6/20\n",
      "23/23 [==============================] - 3s 126ms/step - loss: 0.0818 - val_loss: 0.0533\n",
      "Epoch 7/20\n",
      "23/23 [==============================] - 3s 128ms/step - loss: 0.0580 - val_loss: 0.0473\n",
      "Epoch 8/20\n",
      "23/23 [==============================] - 3s 127ms/step - loss: 0.0628 - val_loss: 0.0686\n",
      "Epoch 9/20\n",
      "23/23 [==============================] - 3s 126ms/step - loss: 0.0504 - val_loss: 0.0427\n",
      "Epoch 10/20\n",
      "23/23 [==============================] - 3s 128ms/step - loss: 0.0326 - val_loss: 0.0439\n",
      "Epoch 11/20\n",
      "23/23 [==============================] - 3s 127ms/step - loss: 0.0315 - val_loss: 0.0530\n",
      "Epoch 12/20\n",
      "23/23 [==============================] - 3s 127ms/step - loss: 0.0235 - val_loss: 0.0672\n",
      "Epoch 13/20\n",
      "23/23 [==============================] - 3s 128ms/step - loss: 0.0271 - val_loss: 0.0503\n",
      "Epoch 14/20\n",
      "23/23 [==============================] - 3s 131ms/step - loss: 0.0297 - val_loss: 0.0538\n",
      "Epoch 15/20\n",
      "23/23 [==============================] - 3s 127ms/step - loss: 0.0233 - val_loss: 0.0274\n",
      "Epoch 16/20\n",
      "23/23 [==============================] - 3s 129ms/step - loss: 0.0174 - val_loss: 0.0370\n",
      "Epoch 17/20\n",
      "23/23 [==============================] - 3s 127ms/step - loss: 0.0182 - val_loss: 0.0241\n",
      "Epoch 18/20\n",
      "23/23 [==============================] - 3s 126ms/step - loss: 0.0135 - val_loss: 0.0234\n",
      "Epoch 19/20\n",
      "23/23 [==============================] - 3s 127ms/step - loss: 0.0097 - val_loss: 0.0216\n",
      "Epoch 20/20\n",
      "23/23 [==============================] - 3s 132ms/step - loss: 0.0132 - val_loss: 0.0248\n"
     ]
    },
    {
     "data": {
      "text/plain": [
       "<keras.callbacks.History at 0x17ee9cf40>"
      ]
     },
     "execution_count": 6,
     "metadata": {},
     "output_type": "execute_result"
    }
   ],
   "source": [
    "model.fit(train_data, labels, epochs=20, batch_size=20, validation_split=0.1)\n"
   ]
  },
  {
   "cell_type": "code",
   "execution_count": 8,
   "metadata": {},
   "outputs": [],
   "source": [
    "test_image_paths = [f\"level_02/test_data/field{i:03d}.png\" for i in range(1000)]\n",
    "test_images = [Image.open(path).convert('RGB') for path in test_image_paths]\n",
    "test_data = np.array([np.asarray(image) for image in test_images]) / 255.0  # Normalize to [0, 1]\n"
   ]
  },
  {
   "cell_type": "code",
   "execution_count": 9,
   "metadata": {},
   "outputs": [
    {
     "name": "stderr",
     "output_type": "stream",
     "text": [
      "2023-10-20 16:28:50.925716: I tensorflow/core/grappler/optimizers/custom_graph_optimizer_registry.cc:112] Plugin optimizer for device_type GPU is enabled.\n"
     ]
    }
   ],
   "source": [
    "predictions = model.predict(test_data).squeeze()\n"
   ]
  },
  {
   "cell_type": "code",
   "execution_count": 10,
   "metadata": {},
   "outputs": [],
   "source": [
    "rounded_predictions = np.round(predictions).clip(0, 5)\n"
   ]
  },
  {
   "cell_type": "code",
   "execution_count": 11,
   "metadata": {},
   "outputs": [],
   "source": [
    "np.savetxt(\"predictions.csv\", rounded_predictions, delimiter=\",\", fmt='%d')\n"
   ]
  }
 ],
 "metadata": {
  "kernelspec": {
   "display_name": "tensorflow",
   "language": "python",
   "name": "python3"
  },
  "language_info": {
   "codemirror_mode": {
    "name": "ipython",
    "version": 3
   },
   "file_extension": ".py",
   "mimetype": "text/x-python",
   "name": "python",
   "nbconvert_exporter": "python",
   "pygments_lexer": "ipython3",
   "version": "3.9.7"
  },
  "orig_nbformat": 4
 },
 "nbformat": 4,
 "nbformat_minor": 2
}
